{
 "cells": [
  {
   "cell_type": "code",
   "execution_count": 2,
   "metadata": {},
   "outputs": [
    {
     "name": "stdout",
     "output_type": "stream",
     "text": [
      "Polynomial([1, 3, 2])\n",
      "12\n",
      "Polynomial([4, 6, 5])\n"
     ]
    }
   ],
   "source": [
    "class Polynomial:\n",
    "    def __init__(self, coefficients):\n",
    "        self.coefficients = coefficients\n",
    "\n",
    "    def __call__(self, x):\n",
    "        result = 0\n",
    "        for i, coeff in enumerate(self.coefficients[::-1]):\n",
    "            result += coeff * (x ** i)\n",
    "        return result\n",
    "\n",
    "    def __add__(self, other):\n",
    "        if isinstance(other, Polynomial):\n",
    "            # Make coefficients arrays the same length\n",
    "            max_len = max(len(self.coefficients), len(other.coefficients))\n",
    "            self_coeffs = self.coefficients + [0] * (max_len - len(self.coefficients))\n",
    "            other_coeffs = other.coefficients + [0] * (max_len - len(other.coefficients))\n",
    "            # Add corresponding coefficients\n",
    "            result_coeffs = [a + b for a, b in zip(self_coeffs, other_coeffs)]\n",
    "            return Polynomial(result_coeffs)\n",
    "        else:\n",
    "            raise TypeError(\"Unsupported operand type for +: Polynomial and \" + type(other).__name__)\n",
    "\n",
    "    def __str__(self):\n",
    "        return \"Polynomial(\" + str(self.coefficients) + \")\"\n",
    "\n",
    "# Create a polynomial function f(x) = x^2 + 3x + 2\n",
    "f = Polynomial([1, 3, 2])\n",
    "\n",
    "print(f)\n",
    "# Evaluate the polynomial function at x = 2\n",
    "result = f(2)\n",
    "print(result)  # Output: 12\n",
    "\n",
    "# Create two polynomial functions\n",
    "g = Polynomial([1, 2])\n",
    "h = Polynomial([3, 4, 5])\n",
    "\n",
    "# Perform addition\n",
    "sum_poly = g + h\n",
    "print(sum_poly)  # Output: Polynomial([4, 6, 5])\n"
   ]
  }
 ],
 "metadata": {
  "kernelspec": {
   "display_name": "Python 3",
   "language": "python",
   "name": "python3"
  },
  "language_info": {
   "codemirror_mode": {
    "name": "ipython",
    "version": 3
   },
   "file_extension": ".py",
   "mimetype": "text/x-python",
   "name": "python",
   "nbconvert_exporter": "python",
   "pygments_lexer": "ipython3",
   "version": "3.10.12"
  }
 },
 "nbformat": 4,
 "nbformat_minor": 2
}
