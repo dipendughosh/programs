{
 "cells": [
  {
   "cell_type": "code",
   "execution_count": 3,
   "metadata": {},
   "outputs": [
    {
     "name": "stdout",
     "output_type": "stream",
     "text": [
      "(x1^0)*(x2^0) = 1\n",
      "(x1^0)*(x2^1) = 2\n",
      "(x1^0)*(x2^2) = 4\n",
      "(x1^1)*(x2^0) = 1\n",
      "(x1^1)*(x2^1) = 2\n",
      "(x1^2)*(x2^0) = 1\n"
     ]
    }
   ],
   "source": [
    "# Define degree\n",
    "degree = 2\n",
    "x1 = 1\n",
    "x2 = 2\n",
    "\n",
    "# Iterate over possible values of m and n such that m + n = degree\n",
    "for m in range(degree + 1):\n",
    "    for n in range(degree - m + 1):\n",
    "        # Calculate the expression (x1^m) * (x2^n)\n",
    "        result = (x1 ** m) * (x2 ** n)\n",
    "        print(f'(x1^{m})*(x2^{n}) = {result}')"
   ]
  }
 ],
 "metadata": {
  "kernelspec": {
   "display_name": "Python 3",
   "language": "python",
   "name": "python3"
  },
  "language_info": {
   "codemirror_mode": {
    "name": "ipython",
    "version": 3
   },
   "file_extension": ".py",
   "mimetype": "text/x-python",
   "name": "python",
   "nbconvert_exporter": "python",
   "pygments_lexer": "ipython3",
   "version": "3.10.12"
  }
 },
 "nbformat": 4,
 "nbformat_minor": 2
}
