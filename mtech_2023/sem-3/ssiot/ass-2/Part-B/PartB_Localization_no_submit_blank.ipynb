{
 "cells": [
  {
   "cell_type": "markdown",
   "metadata": {},
   "source": [
    "# CS6650 (Web M.Tech): Smart Sensing for Internet of Things\n",
    "\n",
    "#### Homework 2 (Part B) (Diwali 2024 Semester)\n",
    "\n",
    "Submission Deadline : Nov 29th, 2024\n",
    "\n",
    "Name:\n",
    "\n",
    "Roll No:\n",
    "\n",
    "Email:\n",
    "\n",
    "### Localization of IoT Devices\n",
    "\n",
    " - Consider a 2D-grid of MxN cells where we want to locate an IoT device (marked as N) using multilateration. The lower-left corner cell can be treated as the origin (0,0) while the location of the top-right cell is (M, N). Assume that all anchors (A1, A2, and A3) are kept at known locations.\n"
   ]
  },
  {
   "cell_type": "markdown",
   "metadata": {},
   "source": [
    "### Task 1: Dataset Generation.\n",
    "\n",
    "<div style=\"display:flex; overflow: hidden;\">\n",
    "  <img src=\"./images/image1.jpg\" style=\"margin:20px; object-fit: cover; object-position: top;\">\n",
    "</div>\n",
    "\n",
    "  - Simulate grid of size 100x100. Consider 3 anchors. [10 points]\n",
    "    - a. Randomly generate 100 unique anchor location sets and for each randomly generated anchor location set, generate 50 random unique node locations (programming hint: use a Set ADT while generating the data). All such location points should be within the simulated grid’s bounding box. Write this data to a file, <true_locations.csv>\n",
    "    \n",
    "      [(x1, y1), (x2, y2), (x3, y3)]1, (NX1, NY1), .. (NX50, NY50)\n",
    "\n",
    "      [(x1, y1), (x2, y2), (x3, y3)]2, (NX1, NY1), .. (NX50, NY50)\n",
    "\n",
    "                …      …       …       …      …      …\n",
    "\n",
    "      [(x1, y1), (x2, y2), (x3, y3)]100, (NX1, NY1), .. (NX50, NY50)\n",
    "\n",
    "    - b. Generate the range values for each node location to the respective anchors and write them to a file <pure_ranges.csv>\n",
    "\n",
    "      [(x1, y1), (x2, y2), (x3, y3)]1, .. (R1,R2,R3)1, .. (R1,R2,R3)50\n",
    "\n",
    "                …      …       …       …      …      …\n",
    "\n",
    "      [(x1, y1), (x2, y2), (x3, y3)]100, .. (R1,R2,R3)1, .. (R1,R2,R3)50\n",
    "\n",
    "    - c. Now generate noisy range values for each node location by adding Gaussian noise to each pure range value as in <pure_ranges.csv>. Rnoisy = Rpure + N(μ,σ). Generate three datasets, for μ = 0.5, 1 and 2. Assume σ = 0.1 for all cases. Write these data into three files <noisy_ranges_05.csv>, <noisy_ranges_1.csv> and <noisy_ranges_2.csv>"
   ]
  },
  {
   "cell_type": "markdown",
   "metadata": {},
   "source": [
    "### Task 2: Range Equations.\n",
    "\n",
    "<div style=\"display:flex; overflow: hidden;\">\n",
    "  <img src=\"./images/image2.jpg\" style=\"margin:20px; object-fit: cover; object-position: top;\">\n",
    "</div>\n",
    "  \n",
    "  - Generate two random numbers, A in [1, 100] and B in [1, 50]. Choose the Ath line and the Bth node location from the files in (a), (b), and (c). [20 + 10 points]\n",
    "    - a. Form the cost function (use root mean square error) using the three range equations for that particular node and anchor locations. Evaluate the “cost value” for all the 100x100 cells for <pure_ranges.csv>, <noisy_ranges_05.csv>, <noisy_ranges_1.csv> and <noisy_ranges_2.csv>. While evaluating your cost function put (X = i and Y = j) where i and j are integers in [0,99]. Visualize the normalized cost values (scale: 0 to 1) in the form of a heatmap. Plot the 4 heatmaps. Don’t interpolate your heatmaps.\n",
    "    - b. Summarize your observations. Did you realize the fact that we are trying to use a brute-force approach to scan all possible cells for the solution? Is the cell with the global minima near (or, how far from) the actual node location? (Cost value = 0 for non-noisy case) Are there local minima present in the noisy cases?\n"
   ]
  },
  {
   "cell_type": "markdown",
   "metadata": {},
   "source": [
    "### Task 3: Trilateration.\n",
    "\n",
    "  - Now use an optimizer to solve for the node location for all 100x50 node locations (pure + 3 noisy versions). If you are using python, use lmfit (https://lmfit.github.io/lmfit-py/). Round off the output of the solver to the nearest integer value, say if the solver outputs (50.69, 45.23) - round it off to (51, 45) for the estimated location cell. Also make sure the solver knows the limits of the solution (i.e., the bounding box). Write the solvers output into 4 files, <pure_locs.csv>, <noisy_locs_05.csv>, <noisy_locs_1.csv> and <noisy_locs_2.csv>. Compare the solved locations with the entries in <true_locations.csv> and compute the localization errors (euclidean distance between true and estimated location).\n",
    "    - a. Plot 4 CDFs (each for the 5000 error values) on the same graph, to compare the 4 cases.\n",
    "      For the 4 cases state the: \n",
    "        (i) median error,\n",
    "        (ii) 75th percentile error,\n",
    "        (iii) 95th percentile error.\n"
   ]
  }
 ],
 "metadata": {
  "kernelspec": {
   "display_name": "Python 3",
   "language": "python",
   "name": "python3"
  },
  "language_info": {
   "codemirror_mode": {
    "name": "ipython",
    "version": 3
   },
   "file_extension": ".py",
   "mimetype": "text/x-python",
   "name": "python",
   "nbconvert_exporter": "python",
   "pygments_lexer": "ipython3",
   "version": "3.12.3"
  }
 },
 "nbformat": 4,
 "nbformat_minor": 2
}
