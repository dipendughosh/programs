{
 "cells": [
  {
   "cell_type": "code",
   "execution_count": 6,
   "metadata": {},
   "outputs": [
    {
     "name": "stdout",
     "output_type": "stream",
     "text": [
      "bsas [-34.83333, -58.5166646]\n",
      "paris [49.0083899664, 2.53844117956]\n",
      "bsas_in_radians [-0.6079562979337163, -1.0213084645552106]\n",
      "paris_in_radians [0.8553577660150332, 0.04430415645153058]\n",
      "result [[0.         1.74219751]\n",
      " [1.74219751 0.        ]]\n",
      "result [[0.         1.74219751]\n",
      " [1.74219751 0.        ]]\n"
     ]
    }
   ],
   "source": [
    "from sklearn.metrics.pairwise import haversine_distances\n",
    "from math import radians\n",
    "bsas = [-34.83333, -58.5166646]\n",
    "print(f\"bsas {bsas}\")\n",
    "paris = [49.0083899664, 2.53844117956]\n",
    "print(f\"paris {paris}\")\n",
    "bsas_in_radians = [radians(_) for _ in bsas]\n",
    "print(f\"bsas_in_radians {bsas_in_radians}\")\n",
    "paris_in_radians = [radians(_) for _ in paris]\n",
    "print(f\"paris_in_radians {paris_in_radians}\")\n",
    "result = haversine_distances([bsas_in_radians, paris_in_radians])\n",
    "print(f\"result {result}\")\n",
    "result = result * 6371000/1000  # multiply by Earth radius to get kilometers\n",
    "print(f\"result {result}\")"
   ]
  }
 ],
 "metadata": {
  "kernelspec": {
   "display_name": "Python 3",
   "language": "python",
   "name": "python3"
  },
  "language_info": {
   "codemirror_mode": {
    "name": "ipython",
    "version": 3
   },
   "file_extension": ".py",
   "mimetype": "text/x-python",
   "name": "python",
   "nbconvert_exporter": "python",
   "pygments_lexer": "ipython3",
   "version": "3.12.3"
  }
 },
 "nbformat": 4,
 "nbformat_minor": 2
}
